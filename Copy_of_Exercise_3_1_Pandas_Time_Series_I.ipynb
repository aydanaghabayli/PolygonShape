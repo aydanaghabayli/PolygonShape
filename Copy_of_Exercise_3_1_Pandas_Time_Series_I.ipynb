{
  "nbformat": 4,
  "nbformat_minor": 0,
  "metadata": {
    "colab": {
      "name": "Copy of Exercise 3.1 - Pandas Time-Series I",
      "provenance": [],
      "collapsed_sections": [],
      "include_colab_link": true
    },
    "kernelspec": {
      "name": "python3",
      "display_name": "Python 3"
    }
  },
  "cells": [
    {
      "cell_type": "markdown",
      "metadata": {
        "id": "view-in-github",
        "colab_type": "text"
      },
      "source": [
        "<a href=\"https://colab.research.google.com/github/aydanaghabayli/PolygonShape/blob/main/Copy_of_Exercise_3_1_Pandas_Time_Series_I.ipynb\" target=\"_parent\"><img src=\"https://colab.research.google.com/assets/colab-badge.svg\" alt=\"Open In Colab\"/></a>"
      ]
    },
    {
      "cell_type": "markdown",
      "metadata": {
        "id": "bIO90CQKXSDe"
      },
      "source": [
        "# Data Science for Construction, Architecture and Engineering\n",
        "\n",
        "### Week 3 - Construction - Pandas Time-Series Data\n",
        "\n",
        "### Exercise Set 3.1 - Pandas Time-Series I\n",
        "\n",
        "This set of exercises is the first of two sets for Week 3. These exercises are designed to give you some hands on experience in trying out the concepts from the first set of videos for this week.\n",
        "\n",
        "There is an introduction video available to explain the process of using this exercise video.\n",
        "\n",
        "The lead developer of this exercise is James Zhan Sicheng, a Ph.D. student at NUS and a teaching assistant of this course. "
      ]
    },
    {
      "cell_type": "markdown",
      "metadata": {
        "id": "ABIHzdSuolvx"
      },
      "source": [
        "# Exercise 03.1\n",
        "\n",
        "There are three exercises in this set, focusing on the use of the [Pandas](https://pandas.pydata.org/) functions introduced in the videos: read, resample, truncate and plot.\n",
        "\n",
        "### Please note that you will need to use the resultant output from Exercise 03.1.3 for the Quiz 3.1."
      ]
    },
    {
      "cell_type": "markdown",
      "metadata": {
        "id": "iTrZjmkZZ-rE"
      },
      "source": [
        "#### Setup the environment\n",
        "The cell below is used to load the necessary packages for this exercise and setup the working directory. You will be asked to give the google drive authorization using through a given link."
      ]
    },
    {
      "cell_type": "code",
      "metadata": {
        "id": "evJcVnLZbFo5"
      },
      "source": [
        "import pandas as pd\n",
        "from google.colab import drive\n",
        "import os\n",
        "import numpy as np"
      ],
      "execution_count": null,
      "outputs": []
    },
    {
      "cell_type": "code",
      "metadata": {
        "id": "SF9wnvdgzwEC",
        "colab": {
          "base_uri": "https://localhost:8080/"
        },
        "outputId": "07fc2c63-e022-4584-ea83-aa120e66972d"
      },
      "source": [
        "drive.mount('/content/gdrive')"
      ],
      "execution_count": null,
      "outputs": [
        {
          "output_type": "stream",
          "text": [
            "Mounted at /content/gdrive\n"
          ],
          "name": "stdout"
        }
      ]
    },
    {
      "cell_type": "markdown",
      "metadata": {
        "id": "xmWizPiTzxQY"
      },
      "source": [
        "In order to do the following exercises, we will go ahead and load the `meta` data file. Please note that we're using the `os` library again to navigate our file struture to *change the directory* to find the right files.\n",
        "\n",
        "**Important Note** - if your file structure is different from what you see below, then you will get an error. You will need to change your file locations *or* update the file path"
      ]
    },
    {
      "cell_type": "code",
      "metadata": {
        "id": "CaZpKu9ntWDW"
      },
      "source": [
        "# read meta data file as pandas dataframe and assign to the corresponding variables\n",
        "os.chdir(\"/content/gdrive/My Drive/EDX Data Science for Construction, Architecture and Engineering/3 - Construction - Pandas Fundamentals/\")\n",
        "metadata = pd.read_csv('all_buildings_meta_data.csv')"
      ],
      "execution_count": null,
      "outputs": []
    },
    {
      "cell_type": "markdown",
      "metadata": {
        "id": "-9ZtoVcdN7Wp"
      },
      "source": [
        "### Exercise 03.1.1 - Loading Meter Data from Specific Files\n",
        "\n",
        "Sometimes you need to grab and process data only from certain files to analyze. You want to first filter those buildings that have certain attributes.\n"
      ]
    },
    {
      "cell_type": "markdown",
      "metadata": {
        "id": "cAIeD95zd6fx"
      },
      "source": [
        "Use `metadata` to find the specific building that meet the description and retrieve the required information. This code:\n",
        "- Use the `.loc` function to identify the building located in **America/Phoenix**, having **College Laboratory** as `primaryspaceUsage` and having floor area larger than **30000** `sqm`\n",
        "- print out the `uid`, `nickname`, `newweatherfilename` and `yearbuilt` of the building"
      ]
    },
    {
      "cell_type": "code",
      "metadata": {
        "id": "jLh0x4OqJdzc",
        "colab": {
          "base_uri": "https://localhost:8080/",
          "height": 80
        },
        "outputId": "38c586c0-f8fb-443c-964c-cc0d6e1c342a"
      },
      "source": [
        "# Retrieve the required information according to the given conditions\n",
        "metadata2 = metadata.loc[lambda metadata: metadata['timezone'] == 'America/Phoenix']\n",
        "metadata3 = metadata2.loc[lambda metadata2: metadata2['primaryspaceusage'] == 'College Laboratory']\n",
        "metadata4 = metadata3.loc[lambda metadata3: metadata3['sqm'] > 30000]\n",
        "metadata_filtered = metadata4[['uid', 'newweatherfilename', 'yearbuilt']]\n",
        "metadata_filtered\n"
      ],
      "execution_count": null,
      "outputs": [
        {
          "output_type": "execute_result",
          "data": {
            "text/html": [
              "<div>\n",
              "<style scoped>\n",
              "    .dataframe tbody tr th:only-of-type {\n",
              "        vertical-align: middle;\n",
              "    }\n",
              "\n",
              "    .dataframe tbody tr th {\n",
              "        vertical-align: top;\n",
              "    }\n",
              "\n",
              "    .dataframe thead th {\n",
              "        text-align: right;\n",
              "    }\n",
              "</style>\n",
              "<table border=\"1\" class=\"dataframe\">\n",
              "  <thead>\n",
              "    <tr style=\"text-align: right;\">\n",
              "      <th></th>\n",
              "      <th>uid</th>\n",
              "      <th>newweatherfilename</th>\n",
              "      <th>yearbuilt</th>\n",
              "    </tr>\n",
              "  </thead>\n",
              "  <tbody>\n",
              "    <tr>\n",
              "      <th>448</th>\n",
              "      <td>UnivLab_Ashlynn</td>\n",
              "      <td>weather0.csv</td>\n",
              "      <td>2012</td>\n",
              "    </tr>\n",
              "  </tbody>\n",
              "</table>\n",
              "</div>"
            ],
            "text/plain": [
              "                 uid newweatherfilename yearbuilt\n",
              "448  UnivLab_Ashlynn       weather0.csv      2012"
            ]
          },
          "metadata": {
            "tags": []
          },
          "execution_count": 26
        }
      ]
    },
    {
      "cell_type": "markdown",
      "metadata": {
        "id": "4iXg1vBI2sM1"
      },
      "source": [
        "Now, use the `read_csv` function to read the following time-series data as Pandas DataFrame: \n",
        "1. The meter data file of the identified building (`uid` in the `filtered_metadata`); \n",
        "2. The `TemperatureC` and `Humidity` of the identified building (`newweatherfilename` in the `filtered_metadata`);\n",
        "\n",
        "Tips:\n",
        "- Be careful about the datatype when getting the values in `filtered_meterdata`\n",
        "- The weather and meter files are in different folders, and the meter file names need a `.csv` in addition to the name in order to be loaded\n",
        "- Set the timestamp column as index (`index_col`)\n",
        "- Have the timestamp as datetime data type (`parse_dates`)\n",
        "- Keep only the `TemperatureC` and `Humidity` for weather data (`usecols`)"
      ]
    },
    {
      "cell_type": "code",
      "metadata": {
        "id": "n7dPg30HN61z"
      },
      "source": [
        "# Load the specific energy consumption and weather data as identified \n",
        "# YOUR CODE HERE\n"
      ],
      "execution_count": null,
      "outputs": []
    },
    {
      "cell_type": "code",
      "metadata": {
        "id": "9Oxxczaf08VF",
        "colab": {
          "base_uri": "https://localhost:8080/",
          "height": 450
        },
        "outputId": "685aed26-84a1-420a-ce1d-9e364e95ec3c"
      },
      "source": [
        "os.chdir(\"/content/gdrive/My Drive/EDX Data Science for Construction, Architecture and Engineering/3 - Construction - Pandas Fundamentals/meter_data/\")\n",
        "meterdata = pd.read_csv('UnivLab_Ashlynn.csv', index_col = \"timestamp\", parse_dates=True) \n",
        "meterdata"
      ],
      "execution_count": null,
      "outputs": [
        {
          "output_type": "execute_result",
          "data": {
            "text/html": [
              "<div>\n",
              "<style scoped>\n",
              "    .dataframe tbody tr th:only-of-type {\n",
              "        vertical-align: middle;\n",
              "    }\n",
              "\n",
              "    .dataframe tbody tr th {\n",
              "        vertical-align: top;\n",
              "    }\n",
              "\n",
              "    .dataframe thead th {\n",
              "        text-align: right;\n",
              "    }\n",
              "</style>\n",
              "<table border=\"1\" class=\"dataframe\">\n",
              "  <thead>\n",
              "    <tr style=\"text-align: right;\">\n",
              "      <th></th>\n",
              "      <th>UnivLab_Ashlynn</th>\n",
              "    </tr>\n",
              "    <tr>\n",
              "      <th>timestamp</th>\n",
              "      <th></th>\n",
              "    </tr>\n",
              "  </thead>\n",
              "  <tbody>\n",
              "    <tr>\n",
              "      <th>2015-01-01 00:00:00</th>\n",
              "      <td>898.79</td>\n",
              "    </tr>\n",
              "    <tr>\n",
              "      <th>2015-01-01 01:00:00</th>\n",
              "      <td>887.98</td>\n",
              "    </tr>\n",
              "    <tr>\n",
              "      <th>2015-01-01 02:00:00</th>\n",
              "      <td>892.02</td>\n",
              "    </tr>\n",
              "    <tr>\n",
              "      <th>2015-01-01 03:00:00</th>\n",
              "      <td>889.06</td>\n",
              "    </tr>\n",
              "    <tr>\n",
              "      <th>2015-01-01 04:00:00</th>\n",
              "      <td>881.37</td>\n",
              "    </tr>\n",
              "    <tr>\n",
              "      <th>...</th>\n",
              "      <td>...</td>\n",
              "    </tr>\n",
              "    <tr>\n",
              "      <th>2015-12-31 19:00:00</th>\n",
              "      <td>869.86</td>\n",
              "    </tr>\n",
              "    <tr>\n",
              "      <th>2015-12-31 20:00:00</th>\n",
              "      <td>864.22</td>\n",
              "    </tr>\n",
              "    <tr>\n",
              "      <th>2015-12-31 21:00:00</th>\n",
              "      <td>884.05</td>\n",
              "    </tr>\n",
              "    <tr>\n",
              "      <th>2015-12-31 22:00:00</th>\n",
              "      <td>857.23</td>\n",
              "    </tr>\n",
              "    <tr>\n",
              "      <th>2015-12-31 23:00:00</th>\n",
              "      <td>858.44</td>\n",
              "    </tr>\n",
              "  </tbody>\n",
              "</table>\n",
              "<p>8760 rows × 1 columns</p>\n",
              "</div>"
            ],
            "text/plain": [
              "                     UnivLab_Ashlynn\n",
              "timestamp                           \n",
              "2015-01-01 00:00:00           898.79\n",
              "2015-01-01 01:00:00           887.98\n",
              "2015-01-01 02:00:00           892.02\n",
              "2015-01-01 03:00:00           889.06\n",
              "2015-01-01 04:00:00           881.37\n",
              "...                              ...\n",
              "2015-12-31 19:00:00           869.86\n",
              "2015-12-31 20:00:00           864.22\n",
              "2015-12-31 21:00:00           884.05\n",
              "2015-12-31 22:00:00           857.23\n",
              "2015-12-31 23:00:00           858.44\n",
              "\n",
              "[8760 rows x 1 columns]"
            ]
          },
          "metadata": {
            "tags": []
          },
          "execution_count": 27
        }
      ]
    },
    {
      "cell_type": "code",
      "metadata": {
        "id": "YGFVn1OQVrBW",
        "colab": {
          "base_uri": "https://localhost:8080/",
          "height": 450
        },
        "outputId": "89fe638c-68c3-4656-d320-cafc4c5ab8cc"
      },
      "source": [
        "os.chdir(\"/content/gdrive/My Drive/EDX Data Science for Construction, Architecture and Engineering/3 - Construction - Pandas Fundamentals/weather_data/\")\n",
        "weatherdata = pd.read_csv('weather0.csv', index_col = \"timestamp\", parse_dates=True) \n",
        "weatherdata_filtered=weatherdata[['TemperatureC', 'Humidity']]\n",
        "weatherdata_filtered"
      ],
      "execution_count": null,
      "outputs": [
        {
          "output_type": "execute_result",
          "data": {
            "text/html": [
              "<div>\n",
              "<style scoped>\n",
              "    .dataframe tbody tr th:only-of-type {\n",
              "        vertical-align: middle;\n",
              "    }\n",
              "\n",
              "    .dataframe tbody tr th {\n",
              "        vertical-align: top;\n",
              "    }\n",
              "\n",
              "    .dataframe thead th {\n",
              "        text-align: right;\n",
              "    }\n",
              "</style>\n",
              "<table border=\"1\" class=\"dataframe\">\n",
              "  <thead>\n",
              "    <tr style=\"text-align: right;\">\n",
              "      <th></th>\n",
              "      <th>TemperatureC</th>\n",
              "      <th>Humidity</th>\n",
              "    </tr>\n",
              "    <tr>\n",
              "      <th>timestamp</th>\n",
              "      <th></th>\n",
              "      <th></th>\n",
              "    </tr>\n",
              "  </thead>\n",
              "  <tbody>\n",
              "    <tr>\n",
              "      <th>2015-01-01 00:51:00</th>\n",
              "      <td>2.8</td>\n",
              "      <td>79.0</td>\n",
              "    </tr>\n",
              "    <tr>\n",
              "      <th>2015-01-01 01:47:00</th>\n",
              "      <td>3.0</td>\n",
              "      <td>75.0</td>\n",
              "    </tr>\n",
              "    <tr>\n",
              "      <th>2015-01-01 01:51:00</th>\n",
              "      <td>2.8</td>\n",
              "      <td>79.0</td>\n",
              "    </tr>\n",
              "    <tr>\n",
              "      <th>2015-01-01 02:51:00</th>\n",
              "      <td>2.8</td>\n",
              "      <td>76.0</td>\n",
              "    </tr>\n",
              "    <tr>\n",
              "      <th>2015-01-01 03:51:00</th>\n",
              "      <td>2.2</td>\n",
              "      <td>82.0</td>\n",
              "    </tr>\n",
              "    <tr>\n",
              "      <th>...</th>\n",
              "      <td>...</td>\n",
              "      <td>...</td>\n",
              "    </tr>\n",
              "    <tr>\n",
              "      <th>2015-12-31 19:51:00</th>\n",
              "      <td>12.2</td>\n",
              "      <td>28.0</td>\n",
              "    </tr>\n",
              "    <tr>\n",
              "      <th>2015-12-31 20:51:00</th>\n",
              "      <td>11.7</td>\n",
              "      <td>27.0</td>\n",
              "    </tr>\n",
              "    <tr>\n",
              "      <th>2015-12-31 21:51:00</th>\n",
              "      <td>10.0</td>\n",
              "      <td>31.0</td>\n",
              "    </tr>\n",
              "    <tr>\n",
              "      <th>2015-12-31 22:51:00</th>\n",
              "      <td>9.4</td>\n",
              "      <td>33.0</td>\n",
              "    </tr>\n",
              "    <tr>\n",
              "      <th>2015-12-31 23:51:00</th>\n",
              "      <td>7.2</td>\n",
              "      <td>40.0</td>\n",
              "    </tr>\n",
              "  </tbody>\n",
              "</table>\n",
              "<p>8999 rows × 2 columns</p>\n",
              "</div>"
            ],
            "text/plain": [
              "                     TemperatureC  Humidity\n",
              "timestamp                                  \n",
              "2015-01-01 00:51:00           2.8      79.0\n",
              "2015-01-01 01:47:00           3.0      75.0\n",
              "2015-01-01 01:51:00           2.8      79.0\n",
              "2015-01-01 02:51:00           2.8      76.0\n",
              "2015-01-01 03:51:00           2.2      82.0\n",
              "...                           ...       ...\n",
              "2015-12-31 19:51:00          12.2      28.0\n",
              "2015-12-31 20:51:00          11.7      27.0\n",
              "2015-12-31 21:51:00          10.0      31.0\n",
              "2015-12-31 22:51:00           9.4      33.0\n",
              "2015-12-31 23:51:00           7.2      40.0\n",
              "\n",
              "[8999 rows x 2 columns]"
            ]
          },
          "metadata": {
            "tags": []
          },
          "execution_count": 28
        }
      ]
    },
    {
      "cell_type": "code",
      "metadata": {
        "id": "gOji1VXt29LW"
      },
      "source": [
        ""
      ],
      "execution_count": null,
      "outputs": []
    },
    {
      "cell_type": "markdown",
      "metadata": {
        "id": "UmwJi0U5O9az"
      },
      "source": [
        "### Exercise 03.1.2 - Resampling Data\n",
        "\n",
        "As discussed in the videos, very often your IoT data will be at a higher resolution than what you need. Sometimes, the data was not logged at the exact moment as desired and therefore has various timestamps. In a spreadsheet, dealing with these issues can be tricky. With `Pandas`, its much more straightforward.\n",
        "\n",
        "In this exercise, use the DataFrames of meter and weather data you created to: \n",
        "1. create a `all_data` dataframe that holds both the meter data and the weather data at hourly resolution (the resulting dataframe should have a `8760×3` shape)\n",
        "2. Calculate the weekly **total** energy consumptions and weekly **average** temperature and humidity, save them in a DataFrame called `all_data_weekly` (the resulting dataframe should have a `53×3` shape)\n",
        "\n",
        "Hint: \n",
        "- use `.resample` to unify the timestamp of the two dataframe before `concat` them\n",
        "- be careful about which axis to `concat`\n",
        "- the Pandas `resample` function can be used for different basic calculation (e.g. `mean`, `sum`) at different time resolution (e.g. `'H'`, `'M'`)"
      ]
    },
    {
      "cell_type": "code",
      "metadata": {
        "id": "h_aEE57Gt6hp"
      },
      "source": [
        "# properly resample and concatenate the data\n",
        "# YOUR CODE HERE\n"
      ],
      "execution_count": null,
      "outputs": []
    },
    {
      "cell_type": "code",
      "metadata": {
        "id": "jOEJ7TVGK8I2"
      },
      "source": [
        "# Do the weekly calculation\n",
        "# YOUR CODE HERE\n"
      ],
      "execution_count": null,
      "outputs": []
    },
    {
      "cell_type": "markdown",
      "metadata": {
        "id": "FSHeXl3unqyg"
      },
      "source": [
        "### Exercise 03.1.3 - Plotting\n",
        "\n",
        "One of the most useful things to do in the early phase of the data analysis process is to visualize the data to find interesting behavior, outliers, etc.\n",
        "\n",
        "In this exercise, use the Pandas `truncate` and `plot` function to plot the bar chart of weekly temperature and energy consumption of the building during July to September 2015.\n",
        "\n",
        "Here are some tips that you can use in your code:\n",
        "- The `truncate` function returns the dataframe between the `before` and `after` date\n",
        "- The pandas `plot.bar` function returns a `matplotlib.axes.Axes` object, which can be referred to as place to plot\n",
        "- The temperature and energy data are in different range. Therefore, it is better to have two y axis (`ax`), so that the both trends are clearly shown\n",
        "- A proper `legend` makes a plot with more than one lines more legible\n",
        "- Axis ticks of larger `fontsize` are also preferred\n",
        "- The appearance of the bars can be adjusted by `width` and `position`"
      ]
    },
    {
      "cell_type": "code",
      "metadata": {
        "id": "4JktsQFuO8mr"
      },
      "source": [
        "# Process and visualize the data as required\n",
        "# YOUR CODE HERE\n"
      ],
      "execution_count": null,
      "outputs": []
    },
    {
      "cell_type": "markdown",
      "metadata": {
        "id": "LduJIHoxTUaZ"
      },
      "source": [
        "### Please write down the week with the abnormal average temperature (in the form of '2015-XX-XX') as the answer for the quiz question."
      ]
    },
    {
      "cell_type": "code",
      "metadata": {
        "id": "JfVYvWxrTfrd"
      },
      "source": [
        ""
      ],
      "execution_count": null,
      "outputs": []
    }
  ]
}